{
  "cells": [
    {
      "cell_type": "markdown",
      "metadata": {
        "id": "oa6ZnBE0a0iz"
      },
      "source": [
        "# Resumo\n",
        "\n",
        "Esse projeto visa projetar um modelo para prever a recuperação da população de espécies em risco. Para isso, nós utilizamos a equação Lotka-Volterra como base ao desenvolver o nosso modelo."
      ]
    },
    {
      "cell_type": "markdown",
      "metadata": {
        "id": "px26_iE1bijJ"
      },
      "source": [
        "# Introdução e Objetivos\n",
        "\n",
        "Com o passar do tempo, cada vez mais espécies estão entrando em risco de extinção, a preocupação com a restauração dessas populações em risco é um dos problemas mais sérios na área ecológica mundial. Independente da espécie ser Carnívora ou Herbívora, para termos uma projeção do aumento ou diminuição desses grupos é necessário levar em conta a dinâmica que sempre é encontrada na natureza, o sistema Predador-Presa e o consequente aumento e diminuição paralelo das populações entre esses dois grupos (também podemos verificar os pontos críticos de extinção de tal grupo). \n",
        "\n",
        "Nesse projeto o nosso objetivo é modelar uma equação para a (as?) espécie (espécies?) e comparar com o resultado de algumas espécies que foram novamente introduzidas com sucesso ao seu habitat natural. Para isso, achamos algumas opções durante a nossa pesquisa no assunto, a primeira equação é a equação de Lotka-Volterra, que nos tempos em que foi introduzida (época de 1920) até os dias de hoje, sofreu de [escrutínio](https://www.researchgate.net/profile/Yuri-Tyutyunov/publication/341654457_From_Lotka-Volterra_to_Arditi-Ginzburg_90_Years_of_Evolving_Trophic_Functions_Biology_Bulletin_Reviews/links/5ecd62424585152945145f35/From-Lotka-Volterra-to-Arditi-Ginzburg-90-Years-of-Evolving-Trophic-Functions-Biology-Bulletin-Reviews.pdf) por considerar que a presa tem acesso à uma provisão infinita de comida, e que cresce de forma exponencial a não ser quando sujeita à predação.\n",
        "\n",
        "A segunda equação é a equação Arditi-Ginzburg, eles que foram um dos maiores críticos dos defeitos da equação Lotka-Volterra. A diferença dessa equação é que ela introduz parâmetros que capturam mudanças na população da presa não consequentes da predação, como por exemplo taxa de natalidade e morte, e também introduz um parâmetro que introduz a eficiência de predação a partir da população de presa e também da população de predadores. <- isso está um pouco mal explicado, melhorar depois."
      ]
    },
    {
      "cell_type": "markdown",
      "metadata": {
        "id": "xH7vRlwzKMW6"
      },
      "source": [
        "# Mapa Mental"
      ]
    },
    {
      "cell_type": "markdown",
      "metadata": {
        "id": "urF8Uev_KPXu"
      },
      "source": [
        "# Modelo\n",
        "\n",
        "As equações diferenciais do modelo de Lotka-Volterra são as seguintes:\n",
        "\n",
        "\\begin{aligned}{\\frac {dx}{dt}}&=\\alpha x-\\beta xy,\\\\{\\frac {dy}{dt}}&=\\delta xy-\\gamma y,\\end{aligned}\n",
        "\n",
        "$x$ = número de presas\n",
        "\n",
        "$y$ = número de predadores\n",
        "\n",
        "$\\frac{dy}{dt}$ e $\\frac{dx}{dt}$ representa o crescimênto instantâneo das populações\n",
        "\n",
        "$t$ = tempo\n",
        "\n",
        "$\\alpha$, $\\beta$, $\\delta$, $\\gamma$ = parâmetros da função\n",
        "\n",
        "$\\alpha$ = taxa efetiva de crescimento da população de presas na ausência de predadores\n",
        "\n",
        "$\\beta$ = taxa de decrescimento da população de presas em decorrência de encontro com os predadores\n",
        "\n",
        "$\\delta$ = taxa de crescimento populacional dos predadores devido à predação\n",
        "\n",
        "$\\gamma$ = taxa de mortalidade de predadores na ausência de presas\n",
        "\n",
        "Portanto, para utilizar esse sistema precisamos primeiro descobrir os valores das variáveis. Para isso, utilizamos os valores já disponibilizados pelo governo de Nepal para compor os parâmetros.\n",
        "\n",
        "[2014](https://www.ntnc.org.np/sites/default/files/doc_publication/2018-11/National%20tiger%20status%20report%202013.pdf)\n",
        "\n",
        "[2018](https://ntnc.org.np/sites/default/files/doc_publication/2019-04/Tiger_prey%20report%202019.pdf)\n",
        "\n",
        "[2022](https://www.ntnc.org.np/sites/default/files/doc_publication/2022-07/status-of-tigers-and-prey-nepal-2022.pdf)\n",
        "\n",
        "---\n",
        "\n",
        "\n",
        "Para o valor $x$ = número de presas, ele foi obtido a partir da página 28, seção **6.4 Prey Density Estimates**, o que nos dá uma estimativa bastante fiel dessa população. Para essa primeira entrega, nós apenas vamos considerar uma média aritmética da variação do máximo e mínimo por km², multiplicado pela quantidade total de km² da área (encontrado na seção **EXECUTIVE SUMMARY**). Posteriormente faremos uma estimativa melhor a partir dos valores encontrados no documento. Portanto, temos que a população total é de 531.308 presas. \n",
        "\n",
        "Para o valor $y$ = número de predadores, ele foi obtido a partir da página 13. Nessa página o documento cita 2 censos que foram feitos, o primeiro em 2009 que consta que havia 121 tigres na época, e o segundo em 2014 que consta que havia 198 tigres na época.\n",
        "\n",
        "\n",
        "\n"
      ]
    },
    {
      "cell_type": "code",
      "source": [
        "import matplotlib.pyplot as plt\n",
        "import numpy as np\n",
        "import scipy.optimize\n",
        "from scipy.integrate import odeint"
      ],
      "metadata": {
        "id": "9OqJNoGyWYsh"
      },
      "execution_count": 38,
      "outputs": []
    },
    {
      "cell_type": "code",
      "source": [
        "def lotka_volterra(variables, t, params):\n",
        "    x = variables[0]\n",
        "    y = variables[1]\n",
        "\n",
        "    alpha = params[0]\n",
        "    beta = params[1]\n",
        "    delta = params[2]\n",
        "    gamma = params[3]\n",
        "\n",
        "    dxdt = alpha * x - beta * x * y\n",
        "    dydt = delta * x * y - gamma * y\n",
        "\n",
        "    return([dxdt, dydt])\n",
        "\n",
        "#gets the estimative prey per km² of each area, multiply it by it's total km², then sums all into one value to represent the total prey per year.\n",
        "def get_total_prey_per_year():\n",
        "  parsa_wr_km2 = 499\n",
        "  parsa_wildlife_reserve_preys = [25.32, 50.21, 75.1]\n",
        "\n",
        "  chitwan_np_km2 = 952\n",
        "  chitwan_national_park_preys = [73.63, 86.665, 99.7]\n",
        "\n",
        "  banke_np_km2 = 550\n",
        "  banke_national_park_preys = [10.27, 21.4, 32.6]\n",
        "\n",
        "  bardia_np_km2 = 968\n",
        "  bardia_national_park_preys = [92.6, 91.4, 90.2]\n",
        "\n",
        "  shuklaphanta_wr_km2 = 305\n",
        "  shuklaphanta_wildlife_reserve_preys = [78.62, 151.75, 146.2]\n",
        "\n",
        "  result = [0.0, 0.0, 0.0]\n",
        "  for i in range(0, 3, 1):\n",
        "    result[i] += parsa_wildlife_reserve_preys[i] * parsa_wr_km2\n",
        "    result[i] += chitwan_national_park_preys[i] * chitwan_np_km2\n",
        "    result[i] += banke_national_park_preys[i] * banke_np_km2\n",
        "    result[i] += bardia_national_park_preys[i] * bardia_np_km2\n",
        "    result[i] += shuklaphanta_wildlife_reserve_preys[i] * shuklaphanta_wr_km2\n",
        "  \n",
        "  return result\n",
        "\n",
        "#check if can find x values for 2008-2009\n",
        "x_series = get_total_prey_per_year()\n",
        "#this does not include 2008-2009 values for tigers, which was 121\n",
        "y_series = [198, 235, 355] \n",
        "\n",
        "print(x_series)\n",
        "\n",
        "#anos, em um periodo t = 1 = 4 anos.\n",
        "years = [0.0, 4.0, 8.0]"
      ],
      "metadata": {
        "colab": {
          "base_uri": "https://localhost:8080/"
        },
        "id": "ODOuQc3N5NeK",
        "outputId": "e289f641-d370-4f20-d990-7ca7b1a2986f"
      },
      "execution_count": 86,
      "outputs": [
        {
          "output_type": "stream",
          "name": "stdout",
          "text": [
            "[201994.84, 254088.82, 282223.9]\n"
          ]
        }
      ]
    },
    {
      "cell_type": "markdown",
      "metadata": {
        "id": "cXiGTFrfKVES"
      },
      "source": [
        "# Resultados do modelo"
      ]
    },
    {
      "cell_type": "markdown",
      "source": [
        "Para pegar os parametros, nós podemos transformar os nossos valores em conjunto com a equação em um sistema linear de equações. portanto, temos:\n",
        "\\begin{aligned}{\\frac {dx}{dt}}&=\\alpha x-\\beta xy,\n",
        "\\\\{\\frac {dy}{dt}}&=\\delta xy-\\gamma y,\n",
        "\\\\\n",
        "\\\\{\\frac {dx}{dt}}1&={\\frac {x2-x1}{t2-t1}},\n",
        "\\\\{\\frac {dx}{dt}}2&={\\frac {x3-x2}{t3-t2}},\n",
        "\\\\{\\frac {dy}{dt}}1&={\\frac {y2-y1}{t2-t1}},\n",
        "\\\\{\\frac {dx}{dt}}2&={\\frac {y3-y2}{t3-t2}},\n",
        "\\\\\n",
        "\\\\{\\frac {dx}{dt}}1&=\\alpha*x2-\\beta*x2*y2,\n",
        "\\\\{\\frac {dx}{dt}}2&=\\alpha*x3-\\beta*x3*y3,\n",
        "\\\\{\\frac {dy}{dt}}1&=\\delta*x2*y2-\\gamma*y2,\n",
        "\\\\{\\frac {dy}{dt}}2&=\\delta*x3*y3-\\gamma*y3,\\end{aligned}\n",
        "\n",
        "Resolvendo esses sistemas, obtemos os parâmetros necessários para resolver a equação. No código abaixo, nós utilizamos o numpy.linalg.solve para resolver esses sistemas.\n"
      ],
      "metadata": {
        "id": "D7iunn3MPiSb"
      }
    },
    {
      "cell_type": "code",
      "source": [
        "#getting the alpha and beta parameters.\n",
        "A = np.array([[254088.82, -254088.82*235], [282223.9, -282223.9*355]])\n",
        "B = np.array([13023.5, 7033.77])\n",
        "X = np.linalg.solve(A, B)\n",
        "alpha, beta = X\n",
        "\n",
        "#getting the delta and gamma parameters\n",
        "A = np.array([[254088.82*235, -235], [282223.9*355, -355]])\n",
        "B = np.array([9.25, 30])\n",
        "X = np.linalg.solve(A, B)\n",
        "delta, gamma = X\n",
        "\n",
        "#alpha = 0.84152\n",
        "#beta = 9.94054e-4\n",
        "#delta = 1.5537e-6\n",
        "#gamma = 0.26713\n",
        "\n",
        "\n",
        "params = [alpha, beta, delta, gamma]\n",
        "\n",
        "y0 = [x_series[0], y_series[0]]\n",
        "\n"
      ],
      "metadata": {
        "id": "oXM9wkIj_RxI",
        "colab": {
          "base_uri": "https://localhost:8080/"
        },
        "outputId": "79c5a073-7375-433f-9f9e-2f248d3334d1"
      },
      "execution_count": 87,
      "outputs": [
        {
          "output_type": "stream",
          "name": "stdout",
          "text": [
            "0.10282456824948683 0.00021944199809897558\n",
            "1.6045925629449586e-06 0.3683473287718006\n"
          ]
        }
      ]
    },
    {
      "cell_type": "code",
      "source": [
        "t = np.linspace(0, 80, 100)\n",
        "\n",
        "\n",
        "output = odeint(lotka_volterra, y0, t, args=(params,))\n",
        "\n",
        "f,(ax1,ax2) = plt.subplots(2)\n",
        "\n",
        "line1 = ax1.scatter(years,x_series, c=\"b\")\n",
        "line2 = ax2.scatter(years,y_series, c=\"r\")\n",
        "ax1.set_ylabel(\"prey (hundreds)\")\n",
        "ax2.set_ylabel(\"predator (hundreds)\")\n",
        "ax2.set_xlabel(\"Time\")\n",
        "\n",
        "\n",
        "line1, = ax1.plot(t,output[:,0], color=\"b\")\n",
        "line2, = ax2.plot(t,output[:,1], color=\"r\")\n",
        "\n",
        "ax1.set_ylabel(\"Prey population\")\n",
        "ax2.set_ylabel(\"Predator population\")\n",
        "ax2.set_xlabel(\"Time (years)\")\n",
        "\n",
        "plt.show()"
      ],
      "metadata": {
        "colab": {
          "base_uri": "https://localhost:8080/",
          "height": 279
        },
        "id": "xp5R25qD_ZwY",
        "outputId": "9216613e-3cae-4dd8-c4f8-01a69990df9f"
      },
      "execution_count": 90,
      "outputs": [
        {
          "output_type": "display_data",
          "data": {
            "text/plain": [
              "<Figure size 432x288 with 2 Axes>"
            ],
            "image/png": "[encoded data removed]"
          },
          "metadata": {
            "needs_background": "light"
          }
        }
      ]
    },
    {
      "cell_type": "markdown",
      "metadata": {
        "id": "lnXxXpDwKWqb"
      },
      "source": [
        "# Conclusões\n",
        "\n",
        "Portanto, os parâmetros escolhidos ainda precisam ser otimizados, mas o resultado já nos dá uma estimativa boa do limite máxima de tigres que a área suporta, e a periodicidade em que a população de predadora e presa aumenta e diminui.\n",
        "\n",
        "É esperado que a população de tigres em Nepal atinja o máximo, de quase 1000 tigres, após 18-20 anos do começ, e que a cada 35 anos a população volte a ficar pequena para depois crescer, por conta da diminuição de presas."
      ]
    }
  ],
  "metadata": {
    "colab": {
      "provenance": []
    },
    "kernelspec": {
      "display_name": "Python 3",
      "name": "python3"
    },
    "language_info": {
      "name": "python"
    }
  },
  "nbformat": 4,
  "nbformat_minor": 0
}